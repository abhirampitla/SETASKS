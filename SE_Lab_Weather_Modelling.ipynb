{
  "nbformat": 4,
  "nbformat_minor": 0,
  "metadata": {
    "colab": {
      "provenance": [],
      "authorship_tag": "ABX9TyMVqlwHtLqZ/O67Xo4ExqbH",
      "include_colab_link": true
    },
    "kernelspec": {
      "name": "python3",
      "display_name": "Python 3"
    },
    "language_info": {
      "name": "python"
    }
  },
  "cells": [
    {
      "cell_type": "markdown",
      "metadata": {
        "id": "view-in-github",
        "colab_type": "text"
      },
      "source": [
        "<a href=\"https://colab.research.google.com/github/abhirampitla/SETASKS/blob/main/SE_Lab_Weather_Modelling.ipynb\" target=\"_parent\"><img src=\"https://colab.research.google.com/assets/colab-badge.svg\" alt=\"Open In Colab\"/></a>"
      ]
    },
    {
      "cell_type": "markdown",
      "source": [
        "Weather Modeling Implementation"
      ],
      "metadata": {
        "id": "TKOp0wrk3scZ"
      }
    },
    {
      "cell_type": "code",
      "source": [
        "# Weather Modeling Implementation\n",
        "\n",
        "# Define the temperature modeling function\n",
        "def Temperature_modeling(a, b, c, time):\n",
        "    temperature = a * time**2 + b * time + c\n",
        "    return temperature\n",
        "\n",
        "# Hardcoded variables\n",
        "a, b, c = 0.3, 3, 15\n",
        "time = 5\n",
        "\n",
        "# Display results for hardcoded variables\n",
        "print(\"Hard-coded variables for weather modeling\")\n",
        "print(\"Temperature for hardcoded coefficients at time\", time, \"hours:\", Temperature_modeling(a, b, c, time))\n"
      ],
      "metadata": {
        "colab": {
          "base_uri": "https://localhost:8080/"
        },
        "id": "lfDMniSK6scA",
        "outputId": "73303cde-4945-48c3-ecc8-22e33cb8bdc3"
      },
      "execution_count": 3,
      "outputs": [
        {
          "output_type": "stream",
          "name": "stdout",
          "text": [
            "Hard-coded variables for weather modeling\n",
            "Temperature for hardcoded coefficients at time 5 hours: 37.5\n"
          ]
        }
      ]
    },
    {
      "cell_type": "markdown",
      "source": [
        "Key- Board Input\n"
      ],
      "metadata": {
        "id": "UsMnDKw077-j"
      }
    },
    {
      "cell_type": "code",
      "source": [
        "# Weather Modeling Implementation\n",
        "\n",
        "# Define the temperature modeling function\n",
        "def Temperature_modeling(a, b, c, time):\n",
        "    temperature = a * time**2 + b * time + c\n",
        "    return temperature\n",
        "\n",
        "# Input variables from the user\n",
        "print(\"Input variables for weather modeling\")\n",
        "a = float(input(\"Enter coefficient a: \"))\n",
        "b = float(input(\"Enter coefficient b: \"))\n",
        "c = float(input(\"Enter coefficient c: \"))\n",
        "time = float(input(\"Enter time in hours: \"))\n",
        "print(\"Temperature for user-provided coefficients at time\", time, \"hours:\", Temperature_modeling(a, b, c, time))"
      ],
      "metadata": {
        "colab": {
          "base_uri": "https://localhost:8080/"
        },
        "id": "SN7Sv9lv7-0b",
        "outputId": "2d02e513-1f47-47ff-8ccc-bc059a958b8c"
      },
      "execution_count": 5,
      "outputs": [
        {
          "output_type": "stream",
          "name": "stdout",
          "text": [
            "Input variables for weather modeling\n",
            "Enter coefficient a: 0.4\n",
            "Enter coefficient b: 4\n",
            "Enter coefficient c: 10\n",
            "Enter time in hours: 6\n",
            "Temperature for user-provided coefficients at time 6.0 hours: 48.4\n"
          ]
        }
      ]
    },
    {
      "cell_type": "markdown",
      "source": [
        "Read from File"
      ],
      "metadata": {
        "id": "2kHhW9Gd9mRB"
      }
    },
    {
      "cell_type": "code",
      "source": [
        "# Define the temperature modeling function\n",
        "def Temperature_modeling(a, b, c, time):\n",
        "    return a * time**2 + b * time + c\n",
        "\n",
        "# Read coefficients from a file\n",
        "try:\n",
        "    with open(\"coefficients.txt\", \"r\") as file:\n",
        "        a, b, c, time = map(float, file.readline().strip().split())\n",
        "        print(f\"Coefficients: a={a}, b={b}, c={c}, time={time}\")\n",
        "        print(\"Temperature:\", Temperature_modeling(a, b, c, time))\n",
        "except FileNotFoundError:\n",
        "    print(\"Error: 'coefficients.txt' not found.\")\n",
        "except ValueError:\n",
        "    print(\"Error: File must contain four numeric values.\")\n"
      ],
      "metadata": {
        "colab": {
          "base_uri": "https://localhost:8080/"
        },
        "id": "vGRuq3Q19n7w",
        "outputId": "d6be4a14-3ba0-4f6f-b7f2-3b41a92a1cc3"
      },
      "execution_count": 7,
      "outputs": [
        {
          "output_type": "stream",
          "name": "stdout",
          "text": [
            "Coefficients: a=0.1, b=2.0, c=10.0, time=5.0\n",
            "Temperature: 22.5\n"
          ]
        }
      ]
    },
    {
      "cell_type": "markdown",
      "source": [
        "Code for Single Set of Input"
      ],
      "metadata": {
        "id": "BQ1xMTO4-0kQ"
      }
    },
    {
      "cell_type": "code",
      "source": [
        "# Define the temperature modeling function\n",
        "def Temperature_modeling(a, b, c, time):\n",
        "    return a * time**2 + b * time + c\n",
        "\n",
        "# Get coefficients and time as input from the user\n",
        "try:\n",
        "    a = float(input(\"Enter coefficient a: \"))\n",
        "    b = float(input(\"Enter coefficient b: \"))\n",
        "    c = float(input(\"Enter coefficient c: \"))\n",
        "    time = float(input(\"Enter time (in hours): \"))\n",
        "\n",
        "    # Calculate and display the temperature\n",
        "    print(\"Coefficients: a =\", a, \", b =\", b, \", c =\", c, \", time =\", time)\n",
        "    print(\"Temperature:\", Temperature_modeling(a, b, c, time))\n",
        "except ValueError:\n",
        "    print(\"Error: Please enter valid numeric values.\")\n"
      ],
      "metadata": {
        "colab": {
          "base_uri": "https://localhost:8080/"
        },
        "id": "DTe5dekS-3Mo",
        "outputId": "c2010e50-f1f1-460b-b42a-74973c15ab51"
      },
      "execution_count": 9,
      "outputs": [
        {
          "output_type": "stream",
          "name": "stdout",
          "text": [
            "Enter coefficient a: 0.3\n",
            "Enter coefficient b: 3\n",
            "Enter coefficient c: 10\n",
            "Enter time (in hours): 5\n",
            "Coefficients: a = 0.3 , b = 3.0 , c = 10.0 , time = 5.0\n",
            "Temperature: 32.5\n"
          ]
        }
      ]
    },
    {
      "cell_type": "markdown",
      "source": [
        "Multiple Set of Inputs"
      ],
      "metadata": {
        "id": "zWTPdnv8_mNI"
      }
    },
    {
      "cell_type": "code",
      "source": [
        "# Define the temperature modeling function\n",
        "def Temperature_modeling(a, b, c, time):\n",
        "    return a * time**2 + b * time + c\n",
        "\n",
        "# Get multiple sets of inputs from the user\n",
        "try:\n",
        "    n = int(input(\"Enter the number of input sets: \"))\n",
        "\n",
        "    for i in range(1, n + 1):\n",
        "        print(f\"\\nSet {i}:\")\n",
        "        a = float(input(\"Enter coefficient a: \"))\n",
        "        b = float(input(\"Enter coefficient b: \"))\n",
        "        c = float(input(\"Enter coefficient c: \"))\n",
        "        time = float(input(\"Enter time (in hours): \"))\n",
        "\n",
        "        # Calculate and display the temperature for the current set\n",
        "        temperature = Temperature_modeling(a, b, c, time)\n",
        "        print(f\"Temperature for set {i}: {temperature}\")\n",
        "\n",
        "except ValueError:\n",
        "    print(\"Error: Please enter valid numeric values.\")\n"
      ],
      "metadata": {
        "colab": {
          "base_uri": "https://localhost:8080/"
        },
        "id": "_8nZ5XJq_ZhU",
        "outputId": "6d92a355-6335-4e16-dd83-81647a0e5ae8"
      },
      "execution_count": 10,
      "outputs": [
        {
          "output_type": "stream",
          "name": "stdout",
          "text": [
            "Enter the number of input sets: 2\n",
            "\n",
            "Set 1:\n",
            "Enter coefficient a: 0.3\n",
            "Enter coefficient b: 3\n",
            "Enter coefficient c: 10\n",
            "Enter time (in hours): 5\n",
            "Temperature for set 1: 32.5\n",
            "\n",
            "Set 2:\n",
            "Enter coefficient a: 0.5\n",
            "Enter coefficient b: 5\n",
            "Enter coefficient c: 12\n",
            "Enter time (in hours): 4\n",
            "Temperature for set 2: 40.0\n"
          ]
        }
      ]
    }
  ]
}